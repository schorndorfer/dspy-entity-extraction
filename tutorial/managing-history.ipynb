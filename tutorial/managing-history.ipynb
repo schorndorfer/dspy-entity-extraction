{
 "cells": [
  {
   "cell_type": "code",
   "execution_count": 17,
   "id": "eda6e417",
   "metadata": {},
   "outputs": [],
   "source": [
    "import os\n",
    "import dspy\n",
    "import random\n",
    "from dotenv import load_dotenv\n",
    "from dspy.clients.lm_local import LocalProvider\n",
    "from dspy.datasets import DataLoader\n",
    "from datasets import load_dataset\n",
    "from typing import Literal\n"
   ]
  },
  {
   "cell_type": "code",
   "execution_count": 4,
   "id": "ace3df95",
   "metadata": {},
   "outputs": [
    {
     "data": {
      "text/plain": [
       "True"
      ]
     },
     "execution_count": 4,
     "metadata": {},
     "output_type": "execute_result"
    }
   ],
   "source": [
    "load_dotenv()  # Load environment variables from .env file"
   ]
  },
  {
   "cell_type": "markdown",
   "id": "ec185770",
   "metadata": {},
   "source": [
    "## Setup MLFlow"
   ]
  },
  {
   "cell_type": "code",
   "execution_count": 2,
   "id": "dc299007",
   "metadata": {},
   "outputs": [
    {
     "name": "stderr",
     "output_type": "stream",
     "text": [
      "2025/09/24 21:25:22 INFO mlflow.tracking.fluent: Experiment with name 'DSPy' does not exist. Creating a new experiment.\n"
     ]
    },
    {
     "data": {
      "text/plain": [
       "<Experiment: artifact_location='mlflow-artifacts:/602383626347086788', creation_time=1758767122300, experiment_id='602383626347086788', last_update_time=1758767122300, lifecycle_stage='active', name='DSPy', tags={}>"
      ]
     },
     "execution_count": 2,
     "metadata": {},
     "output_type": "execute_result"
    }
   ],
   "source": [
    "import mlflow\n",
    "\n",
    "mlflow.set_tracking_uri(\"http://localhost:5000\")\n",
    "mlflow.set_experiment(\"DSPy\")"
   ]
  },
  {
   "cell_type": "markdown",
   "id": "96847b26",
   "metadata": {},
   "source": [
    "## Load the Dataset"
   ]
  },
  {
   "cell_type": "code",
   "execution_count": 13,
   "id": "a2011dbf",
   "metadata": {},
   "outputs": [],
   "source": [
    "# Load the Banking77 dataset.\n",
    "CLASSES = load_dataset(\"PolyAI/banking77\", split=\"train\", trust_remote_code=True).features['label'].names\n",
    "kwargs = dict(fields=(\"text\", \"label\"), input_keys=(\"text\",), split=\"train\", trust_remote_code=True)\n",
    "\n",
    "# Load the first 2000 examples from the dataset, and assign a hint to each *training* example.\n",
    "raw_data = [\n",
    "    dspy.Example(x, label=CLASSES[x.label]).with_inputs(\"text\")\n",
    "    for x in DataLoader().from_huggingface(dataset_name=\"PolyAI/banking77\", **kwargs)[:1000]\n",
    "]\n",
    "\n",
    "random.Random(0).shuffle(raw_data)"
   ]
  },
  {
   "cell_type": "code",
   "execution_count": 14,
   "id": "ab1fac10",
   "metadata": {},
   "outputs": [
    {
     "data": {
      "text/plain": [
       "(77,\n",
       " ['activate_my_card',\n",
       "  'age_limit',\n",
       "  'apple_pay_or_google_pay',\n",
       "  'atm_support',\n",
       "  'automatic_top_up',\n",
       "  'balance_not_updated_after_bank_transfer',\n",
       "  'balance_not_updated_after_cheque_or_cash_deposit',\n",
       "  'beneficiary_not_allowed',\n",
       "  'cancel_transfer',\n",
       "  'card_about_to_expire'])"
      ]
     },
     "execution_count": 14,
     "metadata": {},
     "output_type": "execute_result"
    }
   ],
   "source": [
    "len(CLASSES), CLASSES[:10]"
   ]
  },
  {
   "cell_type": "code",
   "execution_count": 15,
   "id": "2b809828",
   "metadata": {},
   "outputs": [
    {
     "data": {
      "text/plain": [
       "Example({'text': 'What if there is an error on the exchange rate?'}) (input_keys={'text'})"
      ]
     },
     "execution_count": 15,
     "metadata": {},
     "output_type": "execute_result"
    }
   ],
   "source": [
    "unlabeled_trainset = [dspy.Example(text=x.text).with_inputs(\"text\") for x in raw_data[:500]]\n",
    "\n",
    "unlabeled_trainset[0]"
   ]
  },
  {
   "cell_type": "markdown",
   "id": "7431e4c0",
   "metadata": {},
   "source": [
    "## Create the Classifier"
   ]
  },
  {
   "cell_type": "code",
   "execution_count": 16,
   "id": "19c4060d",
   "metadata": {},
   "outputs": [],
   "source": [
    "classify = dspy.ChainOfThought(f\"text -> label: Literal{CLASSES}\")"
   ]
  },
  {
   "cell_type": "code",
   "execution_count": null,
   "id": "eed483fe",
   "metadata": {},
   "outputs": [],
   "source": [
    "student_lm_name = \"meta-llama/Llama-3.2-1B-Instruct\"\n",
    "student_lm = dspy.LM(model=f\"openai/local:{student_lm_name}\", provider=LocalProvider(), max_tokens=2000)\n",
    "teacher_lm = dspy.LM('openai/gpt-5-mini', max_tokens=3000)"
   ]
  },
  {
   "cell_type": "code",
   "execution_count": 33,
   "id": "65a44c46",
   "metadata": {},
   "outputs": [],
   "source": [
    "from dspy.clients.lm_local import LocalProvider\n",
    "\n",
    "student_lm_name = \"meta-llama/Llama-3.2-1B-Instruct\"\n",
    "student_lm = dspy.LM(model=f\"openai/local:{student_lm_name}\", provider=LocalProvider(), max_tokens=2000)\n",
    "teacher_lm = dspy.LM('gemini/gemini-2.5-flash-lite', max_tokens=3000)"
   ]
  },
  {
   "cell_type": "code",
   "execution_count": 34,
   "id": "e0a18cd5",
   "metadata": {},
   "outputs": [],
   "source": [
    "student_classify = classify.deepcopy()\n",
    "student_classify.set_lm(student_lm)\n",
    "\n",
    "teacher_classify = classify.deepcopy()\n",
    "teacher_classify.set_lm(teacher_lm)"
   ]
  },
  {
   "cell_type": "code",
   "execution_count": 35,
   "id": "c4794ad9",
   "metadata": {},
   "outputs": [
    {
     "name": "stderr",
     "output_type": "stream",
     "text": [
      "2025/09/24 22:21:31 INFO dspy.teleprompt.bootstrap_finetune: Preparing the student and teacher programs...\n",
      "2025/09/24 22:21:31 INFO dspy.teleprompt.bootstrap_finetune: Bootstrapping data...\n"
     ]
    },
    {
     "name": "stdout",
     "output_type": "stream",
     "text": [
      "Average Metric: 499.00 / 499 (100.0%): 100%|█████████▉| 498/500 [00:15<00:00, 30.50it/s]"
     ]
    },
    {
     "name": "stderr",
     "output_type": "stream",
     "text": [
      "2025/09/24 22:21:49 WARNING dspy.clients.lm: LM response was truncated due to exceeding max_tokens=3000. You can inspect the latest LM interactions with `dspy.inspect_history()`. To avoid truncation, consider passing a larger max_tokens when setting up dspy.LM. You may also consider increasing the temperature (currently 0.0)  if the reason for truncation is repetition.\n"
     ]
    },
    {
     "name": "stdout",
     "output_type": "stream",
     "text": [
      "Average Metric: 500.00 / 500 (100.0%): 100%|██████████| 500/500 [00:19<00:00, 26.10it/s]"
     ]
    },
    {
     "name": "stderr",
     "output_type": "stream",
     "text": [
      "2025/09/24 22:21:50 INFO dspy.evaluate.evaluate: Average Metric: 500 / 500 (100.0%)\n",
      "2025/09/24 22:21:50 INFO dspy.teleprompt.bootstrap_finetune: Preparing the train data...\n",
      "2025/09/24 22:21:50 INFO dspy.teleprompt.bootstrap_finetune: Using 500 data points for fine-tuning the model: openai/local:meta-llama/Llama-3.2-1B-Instruct\n",
      "2025/09/24 22:21:50 INFO dspy.teleprompt.bootstrap_finetune: Starting LM fine-tuning...\n",
      "2025/09/24 22:21:50 INFO dspy.teleprompt.bootstrap_finetune: 1 fine-tuning job(s) to start\n",
      "2025/09/24 22:21:50 INFO dspy.teleprompt.bootstrap_finetune: Starting 1 fine-tuning job(s)...\n",
      "2025/09/24 22:21:50 INFO dspy.teleprompt.bootstrap_finetune: Calling lm.kill() on the LM to be fine-tuned to free up resources. This won't have any effect if the LM is not running.\n"
     ]
    },
    {
     "name": "stdout",
     "output_type": "stream",
     "text": [
      "\n"
     ]
    },
    {
     "ename": "ImportError",
     "evalue": "cannot import name 'terminate_process' from 'sglang.utils' (/Users/williamthompson/Code/projects/dspy-entity-extraction/.venv/lib/python3.13/site-packages/sglang/utils.py)",
     "output_type": "error",
     "traceback": [
      "\u001b[31m---------------------------------------------------------------------------\u001b[39m",
      "\u001b[31mImportError\u001b[39m                               Traceback (most recent call last)",
      "\u001b[36mCell\u001b[39m\u001b[36m \u001b[39m\u001b[32mIn[35]\u001b[39m\u001b[32m, line 4\u001b[39m\n\u001b[32m      1\u001b[39m dspy.settings.experimental = \u001b[38;5;28;01mTrue\u001b[39;00m  \u001b[38;5;66;03m# fine-tuning is an experimental feature, so we set a flag to enable it\u001b[39;00m\n\u001b[32m      3\u001b[39m optimizer = dspy.BootstrapFinetune(num_threads=\u001b[32m16\u001b[39m)  \u001b[38;5;66;03m# if you *do* have labels, pass metric=your_metric here!\u001b[39;00m\n\u001b[32m----> \u001b[39m\u001b[32m4\u001b[39m classify_ft = \u001b[43moptimizer\u001b[49m\u001b[43m.\u001b[49m\u001b[43mcompile\u001b[49m\u001b[43m(\u001b[49m\u001b[43mstudent_classify\u001b[49m\u001b[43m,\u001b[49m\u001b[43m \u001b[49m\u001b[43mteacher\u001b[49m\u001b[43m=\u001b[49m\u001b[43mteacher_classify\u001b[49m\u001b[43m,\u001b[49m\u001b[43m \u001b[49m\u001b[43mtrainset\u001b[49m\u001b[43m=\u001b[49m\u001b[43munlabeled_trainset\u001b[49m\u001b[43m)\u001b[49m\n",
      "\u001b[36mFile \u001b[39m\u001b[32m~/Code/projects/dspy-entity-extraction/.venv/lib/python3.13/site-packages/dspy/teleprompt/bootstrap_finetune.py:117\u001b[39m, in \u001b[36mBootstrapFinetune.compile\u001b[39m\u001b[34m(self, student, trainset, teacher)\u001b[39m\n\u001b[32m    107\u001b[39m     \u001b[38;5;28;01mraise\u001b[39;00m \u001b[38;5;167;01mValueError\u001b[39;00m(\n\u001b[32m    108\u001b[39m         \u001b[33m\"\u001b[39m\u001b[33mBootstrapFinetune requires `num_threads` to be bigger than or equal to the number of fine-tuning \u001b[39m\u001b[33m\"\u001b[39m\n\u001b[32m    109\u001b[39m         \u001b[33mf\u001b[39m\u001b[33m\"\u001b[39m\u001b[33mjobs. There are \u001b[39m\u001b[38;5;132;01m{\u001b[39;00m\u001b[38;5;28mlen\u001b[39m(key_to_data)\u001b[38;5;132;01m}\u001b[39;00m\u001b[33m fine-tuning jobs to start, but the number of threads is: \u001b[39m\u001b[33m\"\u001b[39m\n\u001b[32m   (...)\u001b[39m\u001b[32m    114\u001b[39m         \u001b[33m\"\u001b[39m\u001b[33mjobs will be less than or equal to the number of predictors.\u001b[39m\u001b[33m\"\u001b[39m\n\u001b[32m    115\u001b[39m     )\n\u001b[32m    116\u001b[39m logger.info(\u001b[33mf\u001b[39m\u001b[33m\"\u001b[39m\u001b[38;5;132;01m{\u001b[39;00m\u001b[38;5;28mlen\u001b[39m(key_to_data)\u001b[38;5;132;01m}\u001b[39;00m\u001b[33m fine-tuning job(s) to start\u001b[39m\u001b[33m\"\u001b[39m)\n\u001b[32m--> \u001b[39m\u001b[32m117\u001b[39m key_to_lm = \u001b[38;5;28;43mself\u001b[39;49m\u001b[43m.\u001b[49m\u001b[43mfinetune_lms\u001b[49m\u001b[43m(\u001b[49m\u001b[43mkey_to_data\u001b[49m\u001b[43m)\u001b[49m\n\u001b[32m    119\u001b[39m logger.info(\u001b[33m\"\u001b[39m\u001b[33mUpdating the student program with the fine-tuned LMs...\u001b[39m\u001b[33m\"\u001b[39m)\n\u001b[32m    120\u001b[39m \u001b[38;5;28;01mfor\u001b[39;00m pred_ind, pred \u001b[38;5;129;01min\u001b[39;00m \u001b[38;5;28menumerate\u001b[39m(student.predictors()):\n",
      "\u001b[36mFile \u001b[39m\u001b[32m~/Code/projects/dspy-entity-extraction/.venv/lib/python3.13/site-packages/dspy/teleprompt/bootstrap_finetune.py:154\u001b[39m, in \u001b[36mBootstrapFinetune.finetune_lms\u001b[39m\u001b[34m(finetune_dict)\u001b[39m\n\u001b[32m    146\u001b[39m     \u001b[38;5;66;03m# TODO: The following line is a hack. We should re-think how to free\u001b[39;00m\n\u001b[32m    147\u001b[39m     \u001b[38;5;66;03m# up resources for fine-tuning. This might mean introducing a new\u001b[39;00m\n\u001b[32m    148\u001b[39m     \u001b[38;5;66;03m# provider method (e.g. prepare_for_finetune) that can be called\u001b[39;00m\n\u001b[32m    149\u001b[39m     \u001b[38;5;66;03m# before fine-tuning is started.\u001b[39;00m\n\u001b[32m    150\u001b[39m     logger.info(\n\u001b[32m    151\u001b[39m         \u001b[33m\"\u001b[39m\u001b[33mCalling lm.kill() on the LM to be fine-tuned to free up resources. This won\u001b[39m\u001b[33m'\u001b[39m\u001b[33mt have any effect if the \u001b[39m\u001b[33m\"\u001b[39m\n\u001b[32m    152\u001b[39m         \u001b[33m\"\u001b[39m\u001b[33mLM is not running.\u001b[39m\u001b[33m\"\u001b[39m\n\u001b[32m    153\u001b[39m     )\n\u001b[32m--> \u001b[39m\u001b[32m154\u001b[39m     \u001b[43mlm\u001b[49m\u001b[43m.\u001b[49m\u001b[43mkill\u001b[49m\u001b[43m(\u001b[49m\u001b[43m)\u001b[49m\n\u001b[32m    155\u001b[39m     key_to_job[key] = lm.finetune(**finetune_kwargs)\n\u001b[32m    157\u001b[39m key_to_lm = {}\n",
      "\u001b[36mFile \u001b[39m\u001b[32m~/Code/projects/dspy-entity-extraction/.venv/lib/python3.13/site-packages/dspy/clients/lm.py:194\u001b[39m, in \u001b[36mLM.kill\u001b[39m\u001b[34m(self, launch_kwargs)\u001b[39m\n\u001b[32m    193\u001b[39m \u001b[38;5;28;01mdef\u001b[39;00m\u001b[38;5;250m \u001b[39m\u001b[34mkill\u001b[39m(\u001b[38;5;28mself\u001b[39m, launch_kwargs: \u001b[38;5;28mdict\u001b[39m[\u001b[38;5;28mstr\u001b[39m, Any] | \u001b[38;5;28;01mNone\u001b[39;00m = \u001b[38;5;28;01mNone\u001b[39;00m):\n\u001b[32m--> \u001b[39m\u001b[32m194\u001b[39m     \u001b[38;5;28;43mself\u001b[39;49m\u001b[43m.\u001b[49m\u001b[43mprovider\u001b[49m\u001b[43m.\u001b[49m\u001b[43mkill\u001b[49m\u001b[43m(\u001b[49m\u001b[38;5;28;43mself\u001b[39;49m\u001b[43m,\u001b[49m\u001b[43m \u001b[49m\u001b[43mlaunch_kwargs\u001b[49m\u001b[43m)\u001b[49m\n",
      "\u001b[36mFile \u001b[39m\u001b[32m~/Code/projects/dspy-entity-extraction/.venv/lib/python3.13/site-packages/dspy/clients/lm_local.py:122\u001b[39m, in \u001b[36mLocalProvider.kill\u001b[39m\u001b[34m(lm, launch_kwargs)\u001b[39m\n\u001b[32m    120\u001b[39m \u001b[38;5;129m@staticmethod\u001b[39m\n\u001b[32m    121\u001b[39m \u001b[38;5;28;01mdef\u001b[39;00m\u001b[38;5;250m \u001b[39m\u001b[34mkill\u001b[39m(lm: \u001b[33m\"\u001b[39m\u001b[33mLM\u001b[39m\u001b[33m\"\u001b[39m, launch_kwargs: \u001b[38;5;28mdict\u001b[39m[\u001b[38;5;28mstr\u001b[39m, Any] | \u001b[38;5;28;01mNone\u001b[39;00m = \u001b[38;5;28;01mNone\u001b[39;00m):\n\u001b[32m--> \u001b[39m\u001b[32m122\u001b[39m     \u001b[38;5;28;01mfrom\u001b[39;00m\u001b[38;5;250m \u001b[39m\u001b[34;01msglang\u001b[39;00m\u001b[34;01m.\u001b[39;00m\u001b[34;01mutils\u001b[39;00m\u001b[38;5;250m \u001b[39m\u001b[38;5;28;01mimport\u001b[39;00m terminate_process\n\u001b[32m    124\u001b[39m     \u001b[38;5;28;01mif\u001b[39;00m \u001b[38;5;129;01mnot\u001b[39;00m \u001b[38;5;28mhasattr\u001b[39m(lm, \u001b[33m\"\u001b[39m\u001b[33mprocess\u001b[39m\u001b[33m\"\u001b[39m):\n\u001b[32m    125\u001b[39m         logger.info(\u001b[33m\"\u001b[39m\u001b[33mNo running server to kill.\u001b[39m\u001b[33m\"\u001b[39m)\n",
      "\u001b[31mImportError\u001b[39m: cannot import name 'terminate_process' from 'sglang.utils' (/Users/williamthompson/Code/projects/dspy-entity-extraction/.venv/lib/python3.13/site-packages/sglang/utils.py)"
     ]
    }
   ],
   "source": [
    "dspy.settings.experimental = True  # fine-tuning is an experimental feature, so we set a flag to enable it\n",
    "\n",
    "optimizer = dspy.BootstrapFinetune(num_threads=16)  # if you *do* have labels, pass metric=your_metric here!\n",
    "classify_ft = optimizer.compile(student_classify, teacher=teacher_classify, trainset=unlabeled_trainset)"
   ]
  }
 ],
 "metadata": {
  "kernelspec": {
   "display_name": "Python 3",
   "language": "python",
   "name": "python3"
  },
  "language_info": {
   "codemirror_mode": {
    "name": "ipython",
    "version": 3
   },
   "file_extension": ".py",
   "mimetype": "text/x-python",
   "name": "python",
   "nbconvert_exporter": "python",
   "pygments_lexer": "ipython3",
   "version": "3.13.7"
  }
 },
 "nbformat": 4,
 "nbformat_minor": 5
}
